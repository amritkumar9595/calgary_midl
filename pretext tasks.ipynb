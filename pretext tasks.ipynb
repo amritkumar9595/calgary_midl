{
 "cells": [
  {
   "cell_type": "code",
   "execution_count": 1,
   "metadata": {},
   "outputs": [],
   "source": [
    "import torch\n",
    "from bart import bart\n",
    "import h5py\n",
    "import numpy as np\n",
    "from matplotlib import pyplot as plt\n",
    "import matplotlib.gridspec as gridspec\n",
    "import os\n",
    "from tqdm import tqdm_notebook\n",
    "from tqdm import tqdm\n",
    "from data import transforms as T\n",
    "# from train_vs_sens import create_data_loaders, build_model\n",
    "from pathlib import Path\n",
    "from collections import namedtuple\n",
    "from torch import nn\n",
    "import math\n",
    "from models.models import SSIM \n",
    "ssim_loss = SSIM().cuda()\n"
   ]
  },
  {
   "cell_type": "code",
   "execution_count": 2,
   "metadata": {},
   "outputs": [],
   "source": [
    "from train_var12_pretext_sens import create_data_loaders , build_model , load_model\n"
   ]
  },
  {
   "cell_type": "code",
   "execution_count": 3,
   "metadata": {},
   "outputs": [],
   "source": [
    "args = {'center_fractions':[0.08],'accelerations':[4],'challenge':'singlecoil',\n",
    "       'data_path':Path('/media/student1/RemovableVolume/calgary'),\n",
    "        \n",
    "       'resolution':170,\n",
    "       'sample_rate':1,\n",
    "       'batch_size':1,\n",
    "        'device':'cuda',\n",
    "        'data_parallel':False,\n",
    "        'num_chans':32,\n",
    "        'num_pools':4,\n",
    "        'drop_prob':0,\n",
    "        'acceleration':5,\n",
    "        'dropout':0,\n",
    "       }\n",
    "# d_named = namedtuple(\"Employee\", d.keys())(*d.values())\n",
    "args = namedtuple('args',args.keys())(*args.values())"
   ]
  },
  {
   "cell_type": "code",
   "execution_count": 4,
   "metadata": {},
   "outputs": [
    {
     "data": {
      "text/plain": [
       "156"
      ]
     },
     "execution_count": 4,
     "metadata": {},
     "output_type": "execute_result"
    }
   ],
   "source": [
    "train_loader, dev_loader,display_loader = create_data_loaders(args,args.data_path)\n",
    "len(train_loader)"
   ]
  },
  {
   "cell_type": "code",
   "execution_count": 5,
   "metadata": {},
   "outputs": [],
   "source": [
    "for iter,data in enumerate(train_loader):\n",
    "    ksp_us,img_us,img_us_rss,img_us_np,img_gt_np,sens,mask,maxi,fname = data\n",
    "    break\n",
    "ksp_us = ksp_us.to(args.device)\n",
    "sens = sens.to(args.device)\n",
    "mask = mask.to(args.device)\n",
    "img_us = img_us.to(args.device)\n",
    "img_us_rss = img_us_rss.unsqueeze(0).to(args.device).float()\n",
    "img_gt_np = img_gt_np.unsqueeze(0).to(args.device).float()\n",
    "img_us_np = img_us_np.unsqueeze(0).to(args.device).float()"
   ]
  },
  {
   "cell_type": "code",
   "execution_count": null,
   "metadata": {},
   "outputs": [],
   "source": [
    "img_us_np.shape"
   ]
  },
  {
   "cell_type": "code",
   "execution_count": null,
   "metadata": {},
   "outputs": [],
   "source": [
    "print(ksp_us.shape,img_us.shape,img_us_rss.shape,img_us_np.shape,img_gt_np.shape,sens.shape,mask.shape,maxi,fname)"
   ]
  },
  {
   "cell_type": "code",
   "execution_count": null,
   "metadata": {},
   "outputs": [],
   "source": [
    "print(img_us.shape , img_gt_np.shape , sens.shape , fname)\n",
    "print(\"Channel-wise US image\") \n",
    "plt.figure(figsize = (8,6),dpi = 150)\n",
    "gs1 = gridspec.GridSpec(3, 4)\n",
    "gs1.update(wspace=0.002, hspace=0.1)\n",
    "\n",
    "for ii in range(12):\n",
    "    plt.subplot(gs1[ii])\n",
    "    plt.imshow(torch.sqrt(img_us[0,ii,:,:,0].detach().cpu()**2 + img_us[0,ii,:,:,1].detach().cpu()**2),cmap='gray')\n",
    "#     plt.imshow(np.abs(sample_rec_train[:,:,ii]),cmap = \"gray\")\n",
    "    plt.axis(\"off\")\n",
    "plt.show()\n",
    "\n",
    "print(\"Channel-wise sensitivity maps\") \n",
    "plt.figure(figsize = (8,6),dpi = 150)\n",
    "gs1 = gridspec.GridSpec(3, 4)\n",
    "gs1.update(wspace=0.002, hspace=0.1)\n",
    "\n",
    "for ii in range(12):\n",
    "    plt.subplot(gs1[ii])\n",
    "    plt.imshow(torch.sqrt(sens[0,ii,:,:,0].detach().cpu()**2 + sens[0,ii,:,:,1].detach().cpu()**2),cmap='gray')\n",
    "#     plt.imshow(np.abs(sample_rec_train[:,:,ii]),cmap = \"gray\")\n",
    "    plt.axis(\"off\")\n",
    "    plt.colorbar()\n",
    "plt.show()"
   ]
  },
  {
   "cell_type": "markdown",
   "metadata": {},
   "source": [
    "# architecure_sens"
   ]
  },
  {
   "cell_type": "code",
   "execution_count": 29,
   "metadata": {},
   "outputs": [
    {
     "data": {
      "text/plain": [
       "architecture_unet(\n",
       "  (model_vs): network_unet(\n",
       "    (conv_blocks): ModuleList(\n",
       "      (0): NormUnet(\n",
       "        (unet): UnetModel(\n",
       "          (down_sample_layers): ModuleList(\n",
       "            (0): ConvBlock(in_chans=2, out_chans=18, drop_prob=0)\n",
       "            (1): ConvBlock(in_chans=18, out_chans=36, drop_prob=0)\n",
       "            (2): ConvBlock(in_chans=36, out_chans=72, drop_prob=0)\n",
       "            (3): ConvBlock(in_chans=72, out_chans=144, drop_prob=0)\n",
       "          )\n",
       "          (conv): ConvBlock(in_chans=144, out_chans=288, drop_prob=0)\n",
       "          (up_conv): ModuleList(\n",
       "            (0): ConvBlock(in_chans=288, out_chans=144, drop_prob=0)\n",
       "            (1): ConvBlock(in_chans=144, out_chans=72, drop_prob=0)\n",
       "            (2): ConvBlock(in_chans=72, out_chans=36, drop_prob=0)\n",
       "            (3): Sequential(\n",
       "              (0): ConvBlock(in_chans=36, out_chans=18, drop_prob=0)\n",
       "              (1): Conv2d(18, 2, kernel_size=(1, 1), stride=(1, 1))\n",
       "            )\n",
       "          )\n",
       "          (up_transpose_conv): ModuleList(\n",
       "            (0): ConvBlock(in_chans=288, out_chans=144)\n",
       "            (1): ConvBlock(in_chans=144, out_chans=72)\n",
       "            (2): ConvBlock(in_chans=72, out_chans=36)\n",
       "            (3): ConvBlock(in_chans=36, out_chans=18)\n",
       "          )\n",
       "        )\n",
       "      )\n",
       "      (1): NormUnet(\n",
       "        (unet): UnetModel(\n",
       "          (down_sample_layers): ModuleList(\n",
       "            (0): ConvBlock(in_chans=2, out_chans=18, drop_prob=0)\n",
       "            (1): ConvBlock(in_chans=18, out_chans=36, drop_prob=0)\n",
       "            (2): ConvBlock(in_chans=36, out_chans=72, drop_prob=0)\n",
       "            (3): ConvBlock(in_chans=72, out_chans=144, drop_prob=0)\n",
       "          )\n",
       "          (conv): ConvBlock(in_chans=144, out_chans=288, drop_prob=0)\n",
       "          (up_conv): ModuleList(\n",
       "            (0): ConvBlock(in_chans=288, out_chans=144, drop_prob=0)\n",
       "            (1): ConvBlock(in_chans=144, out_chans=72, drop_prob=0)\n",
       "            (2): ConvBlock(in_chans=72, out_chans=36, drop_prob=0)\n",
       "            (3): Sequential(\n",
       "              (0): ConvBlock(in_chans=36, out_chans=18, drop_prob=0)\n",
       "              (1): Conv2d(18, 2, kernel_size=(1, 1), stride=(1, 1))\n",
       "            )\n",
       "          )\n",
       "          (up_transpose_conv): ModuleList(\n",
       "            (0): ConvBlock(in_chans=288, out_chans=144)\n",
       "            (1): ConvBlock(in_chans=144, out_chans=72)\n",
       "            (2): ConvBlock(in_chans=72, out_chans=36)\n",
       "            (3): ConvBlock(in_chans=36, out_chans=18)\n",
       "          )\n",
       "        )\n",
       "      )\n",
       "      (2): NormUnet(\n",
       "        (unet): UnetModel(\n",
       "          (down_sample_layers): ModuleList(\n",
       "            (0): ConvBlock(in_chans=2, out_chans=18, drop_prob=0)\n",
       "            (1): ConvBlock(in_chans=18, out_chans=36, drop_prob=0)\n",
       "            (2): ConvBlock(in_chans=36, out_chans=72, drop_prob=0)\n",
       "            (3): ConvBlock(in_chans=72, out_chans=144, drop_prob=0)\n",
       "          )\n",
       "          (conv): ConvBlock(in_chans=144, out_chans=288, drop_prob=0)\n",
       "          (up_conv): ModuleList(\n",
       "            (0): ConvBlock(in_chans=288, out_chans=144, drop_prob=0)\n",
       "            (1): ConvBlock(in_chans=144, out_chans=72, drop_prob=0)\n",
       "            (2): ConvBlock(in_chans=72, out_chans=36, drop_prob=0)\n",
       "            (3): Sequential(\n",
       "              (0): ConvBlock(in_chans=36, out_chans=18, drop_prob=0)\n",
       "              (1): Conv2d(18, 2, kernel_size=(1, 1), stride=(1, 1))\n",
       "            )\n",
       "          )\n",
       "          (up_transpose_conv): ModuleList(\n",
       "            (0): ConvBlock(in_chans=288, out_chans=144)\n",
       "            (1): ConvBlock(in_chans=144, out_chans=72)\n",
       "            (2): ConvBlock(in_chans=72, out_chans=36)\n",
       "            (3): ConvBlock(in_chans=36, out_chans=18)\n",
       "          )\n",
       "        )\n",
       "      )\n",
       "      (3): NormUnet(\n",
       "        (unet): UnetModel(\n",
       "          (down_sample_layers): ModuleList(\n",
       "            (0): ConvBlock(in_chans=2, out_chans=18, drop_prob=0)\n",
       "            (1): ConvBlock(in_chans=18, out_chans=36, drop_prob=0)\n",
       "            (2): ConvBlock(in_chans=36, out_chans=72, drop_prob=0)\n",
       "            (3): ConvBlock(in_chans=72, out_chans=144, drop_prob=0)\n",
       "          )\n",
       "          (conv): ConvBlock(in_chans=144, out_chans=288, drop_prob=0)\n",
       "          (up_conv): ModuleList(\n",
       "            (0): ConvBlock(in_chans=288, out_chans=144, drop_prob=0)\n",
       "            (1): ConvBlock(in_chans=144, out_chans=72, drop_prob=0)\n",
       "            (2): ConvBlock(in_chans=72, out_chans=36, drop_prob=0)\n",
       "            (3): Sequential(\n",
       "              (0): ConvBlock(in_chans=36, out_chans=18, drop_prob=0)\n",
       "              (1): Conv2d(18, 2, kernel_size=(1, 1), stride=(1, 1))\n",
       "            )\n",
       "          )\n",
       "          (up_transpose_conv): ModuleList(\n",
       "            (0): ConvBlock(in_chans=288, out_chans=144)\n",
       "            (1): ConvBlock(in_chans=144, out_chans=72)\n",
       "            (2): ConvBlock(in_chans=72, out_chans=36)\n",
       "            (3): ConvBlock(in_chans=36, out_chans=18)\n",
       "          )\n",
       "        )\n",
       "      )\n",
       "      (4): NormUnet(\n",
       "        (unet): UnetModel(\n",
       "          (down_sample_layers): ModuleList(\n",
       "            (0): ConvBlock(in_chans=2, out_chans=18, drop_prob=0)\n",
       "            (1): ConvBlock(in_chans=18, out_chans=36, drop_prob=0)\n",
       "            (2): ConvBlock(in_chans=36, out_chans=72, drop_prob=0)\n",
       "            (3): ConvBlock(in_chans=72, out_chans=144, drop_prob=0)\n",
       "          )\n",
       "          (conv): ConvBlock(in_chans=144, out_chans=288, drop_prob=0)\n",
       "          (up_conv): ModuleList(\n",
       "            (0): ConvBlock(in_chans=288, out_chans=144, drop_prob=0)\n",
       "            (1): ConvBlock(in_chans=144, out_chans=72, drop_prob=0)\n",
       "            (2): ConvBlock(in_chans=72, out_chans=36, drop_prob=0)\n",
       "            (3): Sequential(\n",
       "              (0): ConvBlock(in_chans=36, out_chans=18, drop_prob=0)\n",
       "              (1): Conv2d(18, 2, kernel_size=(1, 1), stride=(1, 1))\n",
       "            )\n",
       "          )\n",
       "          (up_transpose_conv): ModuleList(\n",
       "            (0): ConvBlock(in_chans=288, out_chans=144)\n",
       "            (1): ConvBlock(in_chans=144, out_chans=72)\n",
       "            (2): ConvBlock(in_chans=72, out_chans=36)\n",
       "            (3): ConvBlock(in_chans=36, out_chans=18)\n",
       "          )\n",
       "        )\n",
       "      )\n",
       "      (5): NormUnet(\n",
       "        (unet): UnetModel(\n",
       "          (down_sample_layers): ModuleList(\n",
       "            (0): ConvBlock(in_chans=2, out_chans=18, drop_prob=0)\n",
       "            (1): ConvBlock(in_chans=18, out_chans=36, drop_prob=0)\n",
       "            (2): ConvBlock(in_chans=36, out_chans=72, drop_prob=0)\n",
       "            (3): ConvBlock(in_chans=72, out_chans=144, drop_prob=0)\n",
       "          )\n",
       "          (conv): ConvBlock(in_chans=144, out_chans=288, drop_prob=0)\n",
       "          (up_conv): ModuleList(\n",
       "            (0): ConvBlock(in_chans=288, out_chans=144, drop_prob=0)\n",
       "            (1): ConvBlock(in_chans=144, out_chans=72, drop_prob=0)\n",
       "            (2): ConvBlock(in_chans=72, out_chans=36, drop_prob=0)\n",
       "            (3): Sequential(\n",
       "              (0): ConvBlock(in_chans=36, out_chans=18, drop_prob=0)\n",
       "              (1): Conv2d(18, 2, kernel_size=(1, 1), stride=(1, 1))\n",
       "            )\n",
       "          )\n",
       "          (up_transpose_conv): ModuleList(\n",
       "            (0): ConvBlock(in_chans=288, out_chans=144)\n",
       "            (1): ConvBlock(in_chans=144, out_chans=72)\n",
       "            (2): ConvBlock(in_chans=72, out_chans=36)\n",
       "            (3): ConvBlock(in_chans=36, out_chans=18)\n",
       "          )\n",
       "        )\n",
       "      )\n",
       "      (6): NormUnet(\n",
       "        (unet): UnetModel(\n",
       "          (down_sample_layers): ModuleList(\n",
       "            (0): ConvBlock(in_chans=2, out_chans=18, drop_prob=0)\n",
       "            (1): ConvBlock(in_chans=18, out_chans=36, drop_prob=0)\n",
       "            (2): ConvBlock(in_chans=36, out_chans=72, drop_prob=0)\n",
       "            (3): ConvBlock(in_chans=72, out_chans=144, drop_prob=0)\n",
       "          )\n",
       "          (conv): ConvBlock(in_chans=144, out_chans=288, drop_prob=0)\n",
       "          (up_conv): ModuleList(\n",
       "            (0): ConvBlock(in_chans=288, out_chans=144, drop_prob=0)\n",
       "            (1): ConvBlock(in_chans=144, out_chans=72, drop_prob=0)\n",
       "            (2): ConvBlock(in_chans=72, out_chans=36, drop_prob=0)\n",
       "            (3): Sequential(\n",
       "              (0): ConvBlock(in_chans=36, out_chans=18, drop_prob=0)\n",
       "              (1): Conv2d(18, 2, kernel_size=(1, 1), stride=(1, 1))\n",
       "            )\n",
       "          )\n",
       "          (up_transpose_conv): ModuleList(\n",
       "            (0): ConvBlock(in_chans=288, out_chans=144)\n",
       "            (1): ConvBlock(in_chans=144, out_chans=72)\n",
       "            (2): ConvBlock(in_chans=72, out_chans=36)\n",
       "            (3): ConvBlock(in_chans=36, out_chans=18)\n",
       "          )\n",
       "        )\n",
       "      )\n",
       "      (7): NormUnet(\n",
       "        (unet): UnetModel(\n",
       "          (down_sample_layers): ModuleList(\n",
       "            (0): ConvBlock(in_chans=2, out_chans=18, drop_prob=0)\n",
       "            (1): ConvBlock(in_chans=18, out_chans=36, drop_prob=0)\n",
       "            (2): ConvBlock(in_chans=36, out_chans=72, drop_prob=0)\n",
       "            (3): ConvBlock(in_chans=72, out_chans=144, drop_prob=0)\n",
       "          )\n",
       "          (conv): ConvBlock(in_chans=144, out_chans=288, drop_prob=0)\n",
       "          (up_conv): ModuleList(\n",
       "            (0): ConvBlock(in_chans=288, out_chans=144, drop_prob=0)\n",
       "            (1): ConvBlock(in_chans=144, out_chans=72, drop_prob=0)\n",
       "            (2): ConvBlock(in_chans=72, out_chans=36, drop_prob=0)\n",
       "            (3): Sequential(\n",
       "              (0): ConvBlock(in_chans=36, out_chans=18, drop_prob=0)\n",
       "              (1): Conv2d(18, 2, kernel_size=(1, 1), stride=(1, 1))\n",
       "            )\n",
       "          )\n",
       "          (up_transpose_conv): ModuleList(\n",
       "            (0): ConvBlock(in_chans=288, out_chans=144)\n",
       "            (1): ConvBlock(in_chans=144, out_chans=72)\n",
       "            (2): ConvBlock(in_chans=72, out_chans=36)\n",
       "            (3): ConvBlock(in_chans=36, out_chans=18)\n",
       "          )\n",
       "        )\n",
       "      )\n",
       "      (8): NormUnet(\n",
       "        (unet): UnetModel(\n",
       "          (down_sample_layers): ModuleList(\n",
       "            (0): ConvBlock(in_chans=2, out_chans=18, drop_prob=0)\n",
       "            (1): ConvBlock(in_chans=18, out_chans=36, drop_prob=0)\n",
       "            (2): ConvBlock(in_chans=36, out_chans=72, drop_prob=0)\n",
       "            (3): ConvBlock(in_chans=72, out_chans=144, drop_prob=0)\n",
       "          )\n",
       "          (conv): ConvBlock(in_chans=144, out_chans=288, drop_prob=0)\n",
       "          (up_conv): ModuleList(\n",
       "            (0): ConvBlock(in_chans=288, out_chans=144, drop_prob=0)\n",
       "            (1): ConvBlock(in_chans=144, out_chans=72, drop_prob=0)\n",
       "            (2): ConvBlock(in_chans=72, out_chans=36, drop_prob=0)\n",
       "            (3): Sequential(\n",
       "              (0): ConvBlock(in_chans=36, out_chans=18, drop_prob=0)\n",
       "              (1): Conv2d(18, 2, kernel_size=(1, 1), stride=(1, 1))\n",
       "            )\n",
       "          )\n",
       "          (up_transpose_conv): ModuleList(\n",
       "            (0): ConvBlock(in_chans=288, out_chans=144)\n",
       "            (1): ConvBlock(in_chans=144, out_chans=72)\n",
       "            (2): ConvBlock(in_chans=72, out_chans=36)\n",
       "            (3): ConvBlock(in_chans=36, out_chans=18)\n",
       "          )\n",
       "        )\n",
       "      )\n",
       "      (9): NormUnet(\n",
       "        (unet): UnetModel(\n",
       "          (down_sample_layers): ModuleList(\n",
       "            (0): ConvBlock(in_chans=2, out_chans=18, drop_prob=0)\n",
       "            (1): ConvBlock(in_chans=18, out_chans=36, drop_prob=0)\n",
       "            (2): ConvBlock(in_chans=36, out_chans=72, drop_prob=0)\n",
       "            (3): ConvBlock(in_chans=72, out_chans=144, drop_prob=0)\n",
       "          )\n",
       "          (conv): ConvBlock(in_chans=144, out_chans=288, drop_prob=0)\n",
       "          (up_conv): ModuleList(\n",
       "            (0): ConvBlock(in_chans=288, out_chans=144, drop_prob=0)\n",
       "            (1): ConvBlock(in_chans=144, out_chans=72, drop_prob=0)\n",
       "            (2): ConvBlock(in_chans=72, out_chans=36, drop_prob=0)\n",
       "            (3): Sequential(\n",
       "              (0): ConvBlock(in_chans=36, out_chans=18, drop_prob=0)\n",
       "              (1): Conv2d(18, 2, kernel_size=(1, 1), stride=(1, 1))\n",
       "            )\n",
       "          )\n",
       "          (up_transpose_conv): ModuleList(\n",
       "            (0): ConvBlock(in_chans=288, out_chans=144)\n",
       "            (1): ConvBlock(in_chans=144, out_chans=72)\n",
       "            (2): ConvBlock(in_chans=72, out_chans=36)\n",
       "            (3): ConvBlock(in_chans=36, out_chans=18)\n",
       "          )\n",
       "        )\n",
       "      )\n",
       "      (10): NormUnet(\n",
       "        (unet): UnetModel(\n",
       "          (down_sample_layers): ModuleList(\n",
       "            (0): ConvBlock(in_chans=2, out_chans=18, drop_prob=0)\n",
       "            (1): ConvBlock(in_chans=18, out_chans=36, drop_prob=0)\n",
       "            (2): ConvBlock(in_chans=36, out_chans=72, drop_prob=0)\n",
       "            (3): ConvBlock(in_chans=72, out_chans=144, drop_prob=0)\n",
       "          )\n",
       "          (conv): ConvBlock(in_chans=144, out_chans=288, drop_prob=0)\n",
       "          (up_conv): ModuleList(\n",
       "            (0): ConvBlock(in_chans=288, out_chans=144, drop_prob=0)\n",
       "            (1): ConvBlock(in_chans=144, out_chans=72, drop_prob=0)\n",
       "            (2): ConvBlock(in_chans=72, out_chans=36, drop_prob=0)\n",
       "            (3): Sequential(\n",
       "              (0): ConvBlock(in_chans=36, out_chans=18, drop_prob=0)\n",
       "              (1): Conv2d(18, 2, kernel_size=(1, 1), stride=(1, 1))\n",
       "            )\n",
       "          )\n",
       "          (up_transpose_conv): ModuleList(\n",
       "            (0): ConvBlock(in_chans=288, out_chans=144)\n",
       "            (1): ConvBlock(in_chans=144, out_chans=72)\n",
       "            (2): ConvBlock(in_chans=72, out_chans=36)\n",
       "            (3): ConvBlock(in_chans=36, out_chans=18)\n",
       "          )\n",
       "        )\n",
       "      )\n",
       "      (11): NormUnet(\n",
       "        (unet): UnetModel(\n",
       "          (down_sample_layers): ModuleList(\n",
       "            (0): ConvBlock(in_chans=2, out_chans=18, drop_prob=0)\n",
       "            (1): ConvBlock(in_chans=18, out_chans=36, drop_prob=0)\n",
       "            (2): ConvBlock(in_chans=36, out_chans=72, drop_prob=0)\n",
       "            (3): ConvBlock(in_chans=72, out_chans=144, drop_prob=0)\n",
       "          )\n",
       "          (conv): ConvBlock(in_chans=144, out_chans=288, drop_prob=0)\n",
       "          (up_conv): ModuleList(\n",
       "            (0): ConvBlock(in_chans=288, out_chans=144, drop_prob=0)\n",
       "            (1): ConvBlock(in_chans=144, out_chans=72, drop_prob=0)\n",
       "            (2): ConvBlock(in_chans=72, out_chans=36, drop_prob=0)\n",
       "            (3): Sequential(\n",
       "              (0): ConvBlock(in_chans=36, out_chans=18, drop_prob=0)\n",
       "              (1): Conv2d(18, 2, kernel_size=(1, 1), stride=(1, 1))\n",
       "            )\n",
       "          )\n",
       "          (up_transpose_conv): ModuleList(\n",
       "            (0): ConvBlock(in_chans=288, out_chans=144)\n",
       "            (1): ConvBlock(in_chans=144, out_chans=72)\n",
       "            (2): ConvBlock(in_chans=72, out_chans=36)\n",
       "            (3): ConvBlock(in_chans=36, out_chans=18)\n",
       "          )\n",
       "        )\n",
       "      )\n",
       "    )\n",
       "    (dc_blocks): ModuleList(\n",
       "      (0): dataConsistencyTerm()\n",
       "      (1): dataConsistencyTerm()\n",
       "      (2): dataConsistencyTerm()\n",
       "      (3): dataConsistencyTerm()\n",
       "      (4): dataConsistencyTerm()\n",
       "      (5): dataConsistencyTerm()\n",
       "      (6): dataConsistencyTerm()\n",
       "      (7): dataConsistencyTerm()\n",
       "      (8): dataConsistencyTerm()\n",
       "      (9): dataConsistencyTerm()\n",
       "      (10): dataConsistencyTerm()\n",
       "      (11): dataConsistencyTerm()\n",
       "    )\n",
       "    (wa_blocks): ModuleList(\n",
       "      (0): weightedAverageTerm()\n",
       "      (1): weightedAverageTerm()\n",
       "      (2): weightedAverageTerm()\n",
       "      (3): weightedAverageTerm()\n",
       "      (4): weightedAverageTerm()\n",
       "      (5): weightedAverageTerm()\n",
       "      (6): weightedAverageTerm()\n",
       "      (7): weightedAverageTerm()\n",
       "      (8): weightedAverageTerm()\n",
       "      (9): weightedAverageTerm()\n",
       "      (10): weightedAverageTerm()\n",
       "      (11): weightedAverageTerm()\n",
       "    )\n",
       "  )\n",
       "  (model_sens): SensitivityModel(\n",
       "    (norm_unet): NormUnet(\n",
       "      (unet): UnetModel(\n",
       "        (down_sample_layers): ModuleList(\n",
       "          (0): ConvBlock(in_chans=2, out_chans=8, drop_prob=0)\n",
       "          (1): ConvBlock(in_chans=8, out_chans=16, drop_prob=0)\n",
       "          (2): ConvBlock(in_chans=16, out_chans=32, drop_prob=0)\n",
       "          (3): ConvBlock(in_chans=32, out_chans=64, drop_prob=0)\n",
       "        )\n",
       "        (conv): ConvBlock(in_chans=64, out_chans=128, drop_prob=0)\n",
       "        (up_conv): ModuleList(\n",
       "          (0): ConvBlock(in_chans=128, out_chans=64, drop_prob=0)\n",
       "          (1): ConvBlock(in_chans=64, out_chans=32, drop_prob=0)\n",
       "          (2): ConvBlock(in_chans=32, out_chans=16, drop_prob=0)\n",
       "          (3): Sequential(\n",
       "            (0): ConvBlock(in_chans=16, out_chans=8, drop_prob=0)\n",
       "            (1): Conv2d(8, 2, kernel_size=(1, 1), stride=(1, 1))\n",
       "          )\n",
       "        )\n",
       "        (up_transpose_conv): ModuleList(\n",
       "          (0): ConvBlock(in_chans=128, out_chans=64)\n",
       "          (1): ConvBlock(in_chans=64, out_chans=32)\n",
       "          (2): ConvBlock(in_chans=32, out_chans=16)\n",
       "          (3): ConvBlock(in_chans=16, out_chans=8)\n",
       "        )\n",
       "      )\n",
       "    )\n",
       "  )\n",
       ")"
      ]
     },
     "execution_count": 29,
     "metadata": {},
     "output_type": "execute_result"
    }
   ],
   "source": [
    "from models.models import architecture_unet,architecture_sens\n",
    "wacoeff = 0.1\n",
    "dccoeff = 0.1\n",
    "cascade = 12  \n",
    "sens_chans = 8\n",
    "sens_pools = 4\n",
    "\n",
    "model = architecture_unet(dccoeff, wacoeff, cascade,sens_chans, sens_pools).to(args.device)\n",
    "model"
   ]
  },
  {
   "cell_type": "code",
   "execution_count": 30,
   "metadata": {},
   "outputs": [],
   "source": [
    "optimizer = torch.optim.Adam(model.parameters() , 0.001)"
   ]
  },
  {
   "cell_type": "code",
   "execution_count": 32,
   "metadata": {},
   "outputs": [
    {
     "name": "stderr",
     "output_type": "stream",
     "text": [
      "100%|██████████| 5/5 [00:01<00:00,  3.73it/s]\n"
     ]
    }
   ],
   "source": [
    "from torch.nn import functional as F\n",
    "from tqdm import tqdm\n",
    "\n",
    "epochs = 5\n",
    "losses = []\n",
    "# pha_loss = []\n",
    "\n",
    "# model_pha.train()\n",
    "for _ in tqdm(range(epochs)):\n",
    "    \n",
    "    out , _,_ = model(img_us.cuda(),ksp_us.cuda(), mask.cuda())\n",
    "#     out = out.squeeze(0)\n",
    "    loss = ssim_loss(out, img_us_np,torch.tensor(img_gt_np.max().item()).unsqueeze(0).cuda())\n",
    "        \n",
    "    losses.append(loss.item())\n",
    "    \n",
    "    optimizer.zero_grad()\n",
    "    \n",
    "    loss.backward()\n",
    "    \n",
    "    optimizer.step()\n",
    "    "
   ]
  },
  {
   "cell_type": "code",
   "execution_count": 33,
   "metadata": {},
   "outputs": [
    {
     "data": {
      "text/plain": [
       "[<matplotlib.lines.Line2D at 0x7fb1d8865b00>]"
      ]
     },
     "execution_count": 33,
     "metadata": {},
     "output_type": "execute_result"
    },
    {
     "data": {
      "image/png": "[encoded data removed]",
      "text/plain": [
       "<Figure size 432x288 with 1 Axes>"
      ]
     },
     "metadata": {
      "needs_background": "light"
     },
     "output_type": "display_data"
    }
   ],
   "source": [
    "plt.plot(losses)"
   ]
  },
  {
   "cell_type": "code",
   "execution_count": null,
   "metadata": {},
   "outputs": [],
   "source": [
    "out.shape"
   ]
  },
  {
   "cell_type": "code",
   "execution_count": null,
   "metadata": {},
   "outputs": [],
   "source": [
    "out"
   ]
  },
  {
   "cell_type": "code",
   "execution_count": null,
   "metadata": {},
   "outputs": [],
   "source": []
  },
  {
   "cell_type": "code",
   "execution_count": null,
   "metadata": {},
   "outputs": [],
   "source": []
  },
  {
   "cell_type": "code",
   "execution_count": null,
   "metadata": {},
   "outputs": [],
   "source": []
  },
  {
   "cell_type": "code",
   "execution_count": null,
   "metadata": {},
   "outputs": [],
   "source": [
    "img_gt_np.shape"
   ]
  },
  {
   "cell_type": "code",
   "execution_count": null,
   "metadata": {},
   "outputs": [],
   "source": [
    "gs1 = gridspec.GridSpec(1, 3)\n",
    "plt.subplot(gs1[0])\n",
    "plt.imshow(img_us_np[0,0,:,:].detach().cpu(),cmap='gray')\n",
    "plt.colorbar()\n",
    "plt.subplot(gs1[1])\n",
    "plt.imshow(img_gt_np[0,0,:,:].detach().cpu(),cmap='gray')\n",
    "plt.colorbar()\n",
    "plt.subplot(gs1[2])\n",
    "plt.imshow(img_us_rss[0,0,:,:].detach().cpu(),cmap='gray')\n",
    "plt.colorbar()\n",
    "\n",
    "print(\"us_max=\",img_us_np.max(),\"fs_max=\",img_gt_np.max())"
   ]
  },
  {
   "cell_type": "code",
   "execution_count": null,
   "metadata": {},
   "outputs": [],
   "source": [
    "gs1 = gridspec.GridSpec(1, 2)\n",
    "plt.subplot(gs1[0])\n",
    "plt.imshow(img_us_np[0,0,:,:].detach().cpu()*maxi.detach().cpu(),cmap='gray')\n",
    "plt.colorbar()\n",
    "plt.subplot(gs1[1])\n",
    "plt.imshow(img_gt_np[0,0,:,:].detach().cpu()*maxi.detach().cpu(),cmap='gray')\n",
    "plt.colorbar()"
   ]
  },
  {
   "cell_type": "markdown",
   "metadata": {},
   "source": [
    "### checking on actual dataset"
   ]
  },
  {
   "cell_type": "code",
   "execution_count": null,
   "metadata": {},
   "outputs": [],
   "source": [
    "fname_tr = '/media/student1/RemovableVolume/calgary/Train/e14140s3_P52224.7.118.h5'\n",
    "with h5py.File(fname_tr, 'r') as data:\n",
    "\n",
    "    ksp = data['kspace'][()]\n",
    "    sens = data['sensitivity'][()]\n",
    "ksp.shape , sens.shape"
   ]
  },
  {
   "cell_type": "code",
   "execution_count": null,
   "metadata": {},
   "outputs": [],
   "source": [
    "img_gt_np = T.zero_filled_reconstruction(ksp)\n",
    "img_gt_np.shape"
   ]
  },
  {
   "cell_type": "code",
   "execution_count": null,
   "metadata": {},
   "outputs": [],
   "source": [
    "plt.imshow(img_gt_np,cmap='gray')\n",
    "plt.colorbar()"
   ]
  },
  {
   "cell_type": "code",
   "execution_count": null,
   "metadata": {},
   "outputs": [],
   "source": []
  },
  {
   "cell_type": "code",
   "execution_count": null,
   "metadata": {},
   "outputs": [],
   "source": []
  },
  {
   "cell_type": "code",
   "execution_count": null,
   "metadata": {},
   "outputs": [],
   "source": []
  },
  {
   "cell_type": "code",
   "execution_count": null,
   "metadata": {},
   "outputs": [],
   "source": []
  },
  {
   "cell_type": "code",
   "execution_count": null,
   "metadata": {},
   "outputs": [],
   "source": []
  },
  {
   "cell_type": "markdown",
   "metadata": {},
   "source": [
    "# replacing randomly initialized layers"
   ]
  },
  {
   "cell_type": "code",
   "execution_count": null,
   "metadata": {},
   "outputs": [],
   "source": [
    "pretext_model = '/media/student1/NewVolume/MR_Reconstruction/experiments/midl/varnet/12-channels/pretext/acc_5x/best_model.pt'\n",
    "model1  = build_model(args)\n",
    "_, model0,_ = load_model(pretext_model)"
   ]
  },
  {
   "cell_type": "code",
   "execution_count": null,
   "metadata": {},
   "outputs": [],
   "source": [
    "gs1 = gridspec.GridSpec(1, 2)\n",
    "plt.subplot(gs1[0])\n",
    "out,out_stack,sens= model0(img_us,ksp_us,mask)\n",
    "plt.imshow(out[0,0,:,:].detach().cpu().numpy())\n",
    "plt.colorbar()\n",
    "\n",
    "plt.subplot(gs1[1])\n",
    "out1,out_stack1,sens1= model1(img_us,ksp_us,mask)\n",
    "plt.imshow(out1[0,0,:,:].detach().cpu().numpy())\n",
    "plt.colorbar()"
   ]
  },
  {
   "cell_type": "code",
   "execution_count": null,
   "metadata": {},
   "outputs": [],
   "source": [
    "img_us_sens = T.combine_all_coils(img_us.squeeze(0),sens.squeeze(0)).unsqueeze(0)\n",
    "img_us_sens.shape"
   ]
  },
  {
   "cell_type": "code",
   "execution_count": null,
   "metadata": {},
   "outputs": [],
   "source": [
    "gs1 = gridspec.GridSpec(1, 2)\n",
    "plt.subplot(gs1[0])\n",
    "out = model0.model_vs.conv_blocks[0](img_us_sens)\n",
    "plt.imshow(np.sqrt(out[0,:,:,0].detach().cpu().numpy()**2 + out[0,:,:,1].detach().cpu().numpy()**2))\n",
    "plt.colorbar()\n",
    "\n",
    "plt.subplot(gs1[1])\n",
    "out1 = model1.model_vs.conv_blocks[0](img_us_sens)\n",
    "plt.imshow(np.sqrt(out1[0,:,:,0].detach().cpu().numpy()**2 + out1[0,:,:,1].detach().cpu().numpy()**2))\n",
    "plt.colorbar()"
   ]
  },
  {
   "cell_type": "code",
   "execution_count": null,
   "metadata": {},
   "outputs": [],
   "source": [
    "# changing the weights of model0\n",
    "model0.model_vs.conv_blocks[0] = model1.model_vs.conv_blocks[0]"
   ]
  },
  {
   "cell_type": "code",
   "execution_count": null,
   "metadata": {},
   "outputs": [],
   "source": [
    "gs1 = gridspec.GridSpec(1, 2)\n",
    "plt.subplot(gs1[0])\n",
    "out = model0.model_vs.conv_blocks[0](img_us_sens)\n",
    "plt.imshow(np.sqrt(out[0,:,:,0].detach().cpu().numpy()**2 + out[0,:,:,1].detach().cpu().numpy()**2))\n",
    "plt.colorbar()\n",
    "\n",
    "plt.subplot(gs1[1])\n",
    "out1 = model1.model_vs.conv_blocks[0](img_us_sens)\n",
    "plt.imshow(np.sqrt(out1[0,:,:,0].detach().cpu().numpy()**2 + out1[0,:,:,1].detach().cpu().numpy()**2))\n",
    "plt.colorbar()"
   ]
  },
  {
   "cell_type": "code",
   "execution_count": null,
   "metadata": {},
   "outputs": [],
   "source": [
    "bck = 2\n",
    "for i in range(-bck,0):\n",
    "    print(\"i=\",i)\n",
    "    "
   ]
  },
  {
   "cell_type": "markdown",
   "metadata": {},
   "source": [
    "# submission"
   ]
  },
  {
   "cell_type": "code",
   "execution_count": 1,
   "metadata": {},
   "outputs": [],
   "source": [
    "import h5py\n",
    "import numpy as np\n",
    "import data.transforms as T\n",
    "from matplotlib import pyplot as plt\n",
    "import torch\n",
    "import matplotlib.gridspec as gridspec"
   ]
  },
  {
   "cell_type": "code",
   "execution_count": 15,
   "metadata": {},
   "outputs": [
    {
     "data": {
      "text/plain": [
       "torch.Size([218, 180])"
      ]
     },
     "execution_count": 15,
     "metadata": {},
     "output_type": "execute_result"
    }
   ],
   "source": [
    "data_path = \"/media/student1/RemovableVolume/calgary_new/Test/test_12_channel/Test-R=5/e15274s3_P20992.7.h5\"\n",
    "slice = 150\n",
    "with h5py.File(data_path, 'r') as data:\n",
    "\n",
    "    zf_kspace = data['kspace'][()]\n",
    "    mask_sampling = ~( np.abs(zf_kspace).sum( axis = (0, -1) ) == 0)\n",
    "    mask_np = 1.0*mask_sampling\n",
    "    ksp = zf_kspace[slice+50]\n",
    "\n",
    "\n",
    "ksp_cmplx = ksp[:,:,::2] + 1j*ksp[:,:,1::2]\n",
    "ksp_t = T.to_tensor(ksp_cmplx)\n",
    "ksp_us= ksp_t.permute(2,0,1,3)\n",
    "img_us = T.ifft2(ksp_us)\n",
    "img_us_np = T.root_sum_of_squares(T.complex_abs(T.ifft2(ksp_us)))\n",
    "img_us_np.shape"
   ]
  },
  {
   "cell_type": "code",
   "execution_count": 22,
   "metadata": {},
   "outputs": [
    {
     "name": "stdout",
     "output_type": "stream",
     "text": [
      "out= (156, 1, 218, 180)\n"
     ]
    }
   ],
   "source": [
    "recons_path = '/media/student1/RemovableVolume/calgary_new/rotnet/20_volume/Track01/12-channel-R=5/e15274s3_P20992.7.h5'\n",
    "with h5py.File(recons_path, 'r') as data:\n",
    "\n",
    "    out = data['reconstruction'][()]\n",
    "print(\"out=\",out.shape)\n",
    "out = out[slice,0,:,:]\n",
    "# out.shape  \n",
    "    "
   ]
  },
  {
   "cell_type": "code",
   "execution_count": 23,
   "metadata": {},
   "outputs": [
    {
     "data": {
      "text/plain": [
       "<matplotlib.colorbar.Colorbar at 0x7f993605b2e8>"
      ]
     },
     "execution_count": 23,
     "metadata": {},
     "output_type": "execute_result"
    },
    {
     "data": {
      "image/png": "[encoded data removed]",
      "text/plain": [
       "<Figure size 432x288 with 4 Axes>"
      ]
     },
     "metadata": {
      "needs_background": "light"
     },
     "output_type": "display_data"
    }
   ],
   "source": [
    "gs1 = gridspec.GridSpec(1, 2)\n",
    "plt.subplot(gs1[0])\n",
    "plt.imshow(img_us_np,cmap='gray')\n",
    "plt.colorbar()\n",
    "\n",
    "plt.subplot(gs1[1])\n",
    "plt.imshow(out,cmap='gray')\n",
    "plt.colorbar()"
   ]
  },
  {
   "cell_type": "markdown",
   "metadata": {},
   "source": [
    "# Convdecoder"
   ]
  },
  {
   "cell_type": "code",
   "execution_count": null,
   "metadata": {},
   "outputs": [],
   "source": [
    "slice_ksp = ksp_us"
   ]
  },
  {
   "cell_type": "code",
   "execution_count": null,
   "metadata": {},
   "outputs": [],
   "source": [
    "ksp_cmplx = ksp_us[:,:,:,:,0].detach() + 1j*ksp_us[:,:,:,:,1]\n",
    "ksp_cmplx.shape"
   ]
  },
  {
   "cell_type": "markdown",
   "metadata": {},
   "source": [
    "# convdecoder setup"
   ]
  },
  {
   "cell_type": "code",
   "execution_count": null,
   "metadata": {},
   "outputs": [],
   "source": [
    "numit = 25000\n",
    "LR = 0.008"
   ]
  },
  {
   "cell_type": "code",
   "execution_count": null,
   "metadata": {},
   "outputs": [],
   "source": [
    "import torch\n",
    "import torch.nn as nn\n",
    "import numpy as np\n",
    "from copy import copy\n",
    "\n",
    "def add_module(self, module):\n",
    "    self.add_module(str(len(self) + 1), module)\n",
    "\n",
    "torch.nn.Module.add = add_module\n",
    "\n",
    "class conv_model(nn.Module):\n",
    "    def __init__(self, num_layers, strides, num_channels, num_output_channels, hidden_size, upsample_mode, act_fun,sig=None, bn_affine=True, skips=False,intermeds=None,bias=False,need_lin_comb=False,need_last=False,kernel_size=3):\n",
    "        super(conv_model, self).__init__()\n",
    "        \n",
    "        self.num_layers = num_layers\n",
    "        self.hidden_size = hidden_size\n",
    "        self.upsample_mode = upsample_mode\n",
    "        self.act_fun = act_fun\n",
    "        self.sig= sig\n",
    "        self.skips = skips\n",
    "        self.intermeds = intermeds\n",
    "        self.layer_inds = [] # record index of the layers that generate output in the sequential mode (after each BatchNorm)\n",
    "        self.combinations = None # this holds input of the last layer which is upsampled versions of previous layers\n",
    "        \n",
    "        cntr = 1\n",
    "        net1 = nn.Sequential()\n",
    "        for i in range(num_layers-1):\n",
    "            \n",
    "            net1.add(nn.Upsample(size=hidden_size[i], mode=upsample_mode))#,align_corners=True))\n",
    "            cntr += 1\n",
    "            \n",
    "            conv = nn.Conv2d(num_channels, num_channels, kernel_size, strides[i], padding=(kernel_size-1)//2, bias=bias)\n",
    "            net1.add(conv)\n",
    "            cntr += 1\n",
    "            \n",
    "            #net1.add(nn.BatchNorm2d( num_channels, affine=bn_affine))\n",
    "            net1.add(act_fun)\n",
    "            cntr += 1\n",
    "            \n",
    "            if need_lin_comb:\n",
    "                net1.add(nn.BatchNorm2d( num_channels, affine=bn_affine)) \n",
    "                #net1.add(act_fun)\n",
    "                cntr += 1\n",
    "\n",
    "                net1.add(nn.Conv2d(num_channels, num_channels, 1, 1, padding=0, bias=bias))\n",
    "                cntr += 1\n",
    "\n",
    "                #net1.add(nn.BatchNorm2d( num_channels, affine=bn_affine))\n",
    "                net1.add(act_fun)\n",
    "                cntr += 1\n",
    "            \n",
    "            #net1.add(act_fun)\n",
    "            net1.add(nn.BatchNorm2d( num_channels, affine=bn_affine))\n",
    "            if i != num_layers - 2: # penultimate layer will automatically be concatenated if skip connection option is chosen\n",
    "                self.layer_inds.append(cntr)\n",
    "            cntr += 1\n",
    "\n",
    "        net2 = nn.Sequential()\n",
    "        \n",
    "        nic = num_channels\n",
    "        if skips:\n",
    "            nic = num_channels*( sum(intermeds)+1 )\n",
    "        \n",
    "        if need_last:\n",
    "            net2.add( nn.Conv2d(nic, num_channels, kernel_size, strides[i], padding=(kernel_size-1)//2, bias=bias) )\n",
    "            net2.add(act_fun)\n",
    "            net2.add(nn.BatchNorm2d( num_channels, affine=bn_affine))\n",
    "            nic = num_channels\n",
    "            \n",
    "        net2.add(nn.Conv2d(nic, num_output_channels, 1, 1, padding=0, bias=bias))\n",
    "        \n",
    "        if sig is not None:\n",
    "            net2.add(self.sig)\n",
    "        \n",
    "        self.net1 = net1 \n",
    "        self.net2 = net2\n",
    "        \n",
    "    def forward(self, x, scale_out=1):\n",
    "        out1 = self.net1(x)\n",
    "        if self.skips:\n",
    "            intermed_outs = []\n",
    "            for i,c in enumerate(self.net1):\n",
    "                if i+1 in self.layer_inds:\n",
    "                    f = self.net1[:i+1]\n",
    "                    intermed_outs.append(f(x))\n",
    "            intermed_outs = [intermed_outs[i] for i in range(len(intermed_outs)) if self.intermeds[i]]\n",
    "            intermed_outs = [self.up_sample(io) for io in intermed_outs]\n",
    "            out1 = torch.cat(intermed_outs+[out1],1)\n",
    "        self.combinations = copy(out1)\n",
    "        out2 = self.net2(out1)\n",
    "        return out2*scale_out\n",
    "    def up_sample(self,img):\n",
    "        samp_block = nn.Upsample(size=self.hidden_size[-1], mode=self.upsample_mode)#,align_corners=True)\n",
    "        img = samp_block(img)\n",
    "        return img\n",
    "\n",
    "def convdecoder(\n",
    "        out_size = [256,256],\n",
    "        in_size = [16,16],\n",
    "        num_output_channels=2,\n",
    "        num_layers=6,\n",
    "        strides=[1]*6,\n",
    "        num_channels=64,\n",
    "        need_sigmoid=True, \n",
    "        pad='reflection', \n",
    "        upsample_mode='bilinear', \n",
    "        act_fun=nn.ReLU(), # nn.LeakyReLU(0.2, inplace=True) \n",
    "        bn_before_act = False,\n",
    "        bn_affine = True,\n",
    "        skips = True,\n",
    "        intermeds=None,\n",
    "        nonlin_scales=False,\n",
    "        bias=False,\n",
    "        need_lin_comb=False,\n",
    "        need_last=False,\n",
    "        kernel_size=3,\n",
    "        ):\n",
    "    \n",
    "    \n",
    "    scale_x,scale_y = (out_size[0]/in_size[0])**(1./(num_layers-1)), (out_size[1]/in_size[1])**(1./(num_layers-1))\n",
    "    if nonlin_scales:\n",
    "        xscales = np.ceil( np.linspace(scale_x * in_size[0],out_size[0],num_layers-1) )\n",
    "        yscales = np.ceil( np.linspace(scale_y * in_size[1],out_size[1],num_layers-1) )\n",
    "        hidden_size = [(int(x),int(y)) for (x,y) in zip(xscales,yscales)]\n",
    "    else:\n",
    "        hidden_size = [(int(np.ceil(scale_x**n * in_size[0])),\n",
    "                        int(np.ceil(scale_y**n * in_size[1]))) for n in range(1, (num_layers-1))] + [out_size]\n",
    "    print(hidden_size)\n",
    "    if need_sigmoid:\n",
    "        sig = nn.Sigmoid()\n",
    "        #sig = nn.Tanh()\n",
    "        #sig = nn.Softmax()\n",
    "    else:\n",
    "        sig = None\n",
    "    \n",
    "    model = conv_model(num_layers, strides, num_channels, num_output_channels, hidden_size,\n",
    "                         upsample_mode=upsample_mode, \n",
    "                         act_fun=act_fun,\n",
    "                         sig=sig,\n",
    "                         bn_affine=bn_affine,\n",
    "                         skips=skips,\n",
    "                         intermeds=intermeds,\n",
    "                         bias=bias,\n",
    "                         need_lin_comb=need_lin_comb,\n",
    "                         need_last = need_last,\n",
    "                         kernel_size=kernel_size,)\n",
    "    return model"
   ]
  },
  {
   "cell_type": "code",
   "execution_count": null,
   "metadata": {},
   "outputs": [],
   "source": [
    "def num_param(net):\n",
    "    s = sum([np.prod(list(p.size())) for p in net.parameters()]);\n",
    "    return s"
   ]
  },
  {
   "cell_type": "code",
   "execution_count": null,
   "metadata": {},
   "outputs": [],
   "source": []
  },
  {
   "cell_type": "code",
   "execution_count": null,
   "metadata": {},
   "outputs": [],
   "source": []
  },
  {
   "cell_type": "code",
   "execution_count": null,
   "metadata": {},
   "outputs": [],
   "source": []
  },
  {
   "cell_type": "code",
   "execution_count": null,
   "metadata": {},
   "outputs": [],
   "source": [
    "\n",
    "x = torch.randn(15,2,320,320)\n",
    "slice_ksp = x\n",
    "# y.shape"
   ]
  },
  {
   "cell_type": "code",
   "execution_count": null,
   "metadata": {},
   "outputs": [],
   "source": [
    "dtype = torch.cuda.FloatTensor\n",
    "output_depth = slice_ksp.shape[0]*2\n",
    "out_size = slice_ksp.shape\n",
    "print(\"out_size\",out_size)\n",
    "num_channels = 160 #256\n",
    "num_layers = 7\n",
    "strides = [1]*(num_layers-1)\n",
    "in_size = [8,4]\n",
    "kernel_size = 3\n",
    "parnet = convdecoder(out_size,in_size,output_depth,\n",
    "                     num_layers,strides,num_channels, act_fun = nn.ReLU(),\n",
    "                     skips=False,need_sigmoid=False,bias=False, need_last = True,\n",
    "                     kernel_size=kernel_size,upsample_mode=\"nearest\").type(dtype)\n",
    "print(num_param(parnet))\n",
    "parnet"
   ]
  },
  {
   "cell_type": "code",
   "execution_count": null,
   "metadata": {},
   "outputs": [],
   "source": [
    "x = torch.randn(15,2,320,320)\n",
    "y = parnet(x)\n",
    "y.shape"
   ]
  },
  {
   "cell_type": "markdown",
   "metadata": {},
   "source": [
    "# submission"
   ]
  },
  {
   "cell_type": "code",
   "execution_count": null,
   "metadata": {},
   "outputs": [],
   "source": [
    "index = 40\n",
    "slice = 50 + index\n",
    "fname = '/media/student1/RemovableVolume/calgary_new/exp1/Track01/12-channel-R=5/e15790s3_P01536.7.h5'\n",
    "with h5py.File(fname, 'r') as data:\n",
    "\n",
    "    recons = data['reconstruction'][()]\n",
    "recons.shape"
   ]
  },
  {
   "cell_type": "code",
   "execution_count": null,
   "metadata": {},
   "outputs": [],
   "source": [
    "plt.imshow(recons[index,0,:,:],cmap='gray')\n",
    "plt.colorbar()\n",
    "print(recons.max())"
   ]
  },
  {
   "cell_type": "code",
   "execution_count": null,
   "metadata": {},
   "outputs": [],
   "source": [
    "fname_ori = '/media/student1/RemovableVolume/calgary_new/Test/test_12_channel/Test-R=5/e15790s3_P01536.7.h5'\n",
    "with h5py.File(fname_ori, 'r') as data:\n",
    "\n",
    "            kspace = data['kspace'][slice]\n",
    "            sr = 0.85\n",
    "            Nz = kspace.shape[1]\n",
    "            Nz_sampled = int(np.ceil(Nz*sr))\n",
    "\n",
    "            kspace[:,Nz_sampled:,:] = 0\n",
    "            ksp_cmplx = kspace[:,:,::2] + 1j*kspace[:,:,1::2]\n",
    "            \n",
    "ksp_cmplx.shape"
   ]
  },
  {
   "cell_type": "code",
   "execution_count": null,
   "metadata": {},
   "outputs": [],
   "source": [
    "ksp_t = T.to_tensor(ksp_cmplx)\n",
    "ksp_t = ksp_t.permute(2,0,1,3)\n",
    "ksp_t.shape"
   ]
  },
  {
   "cell_type": "code",
   "execution_count": null,
   "metadata": {},
   "outputs": [],
   "source": [
    "img_gt_np = T.root_sum_of_squares(T.complex_abs(T.ifft2(ksp_t)))\n",
    "img_gt_np.shape"
   ]
  },
  {
   "cell_type": "code",
   "execution_count": null,
   "metadata": {},
   "outputs": [],
   "source": [
    "plt.imshow(img_gt_np,cmap='gray')\n",
    "plt.colorbar()\n",
    "print(img_gt_np.max())"
   ]
  },
  {
   "cell_type": "code",
   "execution_count": null,
   "metadata": {},
   "outputs": [],
   "source": [
    "def channel_wise_ifft(zero_filled_kspace):\n",
    "    \"\"\"\n",
    "    Computes the iFFT across channels of multi-channel k-space data. The input is expected to be a complex numpy array.\n",
    "    \"\"\"\n",
    "    return np.fft.ifft2(zero_filled_kspace, axes = (0,1))\n",
    "    \n",
    "    \n",
    "\n",
    "def sum_of_squares(img_channels):\n",
    "    \"\"\"\n",
    "    Combines complex channels with square root sum of squares. The channels are the last dimension (i.e., -1) of the input array.\n",
    "    \"\"\"\n",
    "    return np.sqrt((np.abs(img_channels)**2).sum(axis = -1))\n",
    "    return sos    \n",
    "\n",
    "def zero_filled_reconstruction(zero_filled_kspace):\n",
    "    \"\"\"\n",
    "    Zero-filled reconstruction of multi-channel MR images. The input is the zero-filled k-space. The channels\n",
    "    are the last dimension of the array. The input may be either complex-valued or alternate between real and imaginary channels \n",
    "    in the last array dimension.\n",
    "    \"\"\"\n",
    "    if not np.iscomplexobj(zero_filled_kspace):\n",
    "        zero_filled_kspace = zero_filled_kspace[:,:,:,::2] + 1j*zero_filled_kspace[:,:,:,1::2] #convert real-imag to complex data\n",
    "    \n",
    "    img_gt_np = sum_of_squares(channel_wise_ifft(zero_filled_kspace))\n",
    "#     img_gt_np = torch.from_numpy(img_gt_np)\n",
    "\n",
    "    \n",
    "    return img_gt_np"
   ]
  },
  {
   "cell_type": "code",
   "execution_count": null,
   "metadata": {},
   "outputs": [],
   "source": [
    "img_np = T.zero_filled_reconstruction(ksp_cmplx)\n",
    "img_np.shape"
   ]
  },
  {
   "cell_type": "code",
   "execution_count": null,
   "metadata": {},
   "outputs": [],
   "source": [
    "plt.imshow(img_np,cmap='gray')\n",
    "\n",
    "plt.colorbar()\n",
    "print(img_np.max())"
   ]
  },
  {
   "cell_type": "code",
   "execution_count": null,
   "metadata": {},
   "outputs": [],
   "source": [
    "img_np.max()"
   ]
  },
  {
   "cell_type": "markdown",
   "metadata": {},
   "source": [
    "# Data handling"
   ]
  },
  {
   "cell_type": "code",
   "execution_count": null,
   "metadata": {},
   "outputs": [],
   "source": [
    "\n",
    "fname_ori = '/media/student1/RemovableVolume/calgary/Train/e16972s3_P31232.7.99.h5'\n",
    "with h5py.File(fname_ori, 'r') as data:\n",
    "    ksp_gt_np = data['kspace'][()]\n",
    "    sens = data['sensitivity'][()]\n",
    "ksp_gt_np.shape\n",
    "ksp_gt_t = T.to_tensor(ksp_gt_np)\n",
    "ksp_t = ksp_gt_t.permute(2,0,1,3)\n",
    "ksp_t.shape"
   ]
  },
  {
   "cell_type": "code",
   "execution_count": null,
   "metadata": {},
   "outputs": [],
   "source": [
    "sens_t = T.to_tensor(sens)\n",
    "sens_t.shape"
   ]
  },
  {
   "cell_type": "code",
   "execution_count": null,
   "metadata": {},
   "outputs": [],
   "source": [
    "plt.imshow(np.log(np.abs(ksp_gt_np[:,:,0])+ 1e-8))\n",
    "plt.colorbar()"
   ]
  },
  {
   "cell_type": "code",
   "execution_count": null,
   "metadata": {},
   "outputs": [],
   "source": [
    "def fft2(img_t):\n",
    "    \"\"\"\n",
    "    img_ch has shape = [ch,218,180,2] in torch tensor format\n",
    "    Computes the iFFT across channels of multi-channel k-space data.\n",
    "    Returns channel wise ifft in torch format.\n",
    "    \"\"\"\n",
    "    # print(\"ZF\",zero_filled_kspace.shape)\n",
    "    img_np = img_t[:,:,:,0].numpy() + 1j*img_t[:,:,:,1].numpy()\n",
    "    img_np = img_np.transpose(1,2,0)\n",
    "    \n",
    "    ksp_np = np.fft.fft2(img_np, axes = (0,1))\n",
    "    \n",
    "    ksp_t = T.to_tensor(ksp_np)\n",
    "    return ksp_t.permute(2,0,1,3)\n",
    "\n",
    "\n",
    "def ifft2(ksp_t):\n",
    "    \"\"\"\n",
    "    ksp_ch has shape = [ch,218,180,2] in torch tensor format\n",
    "    Computes the iFFT across channels of multi-channel k-space data.\n",
    "    Returns channel wise ifft in torch format.\n",
    "    \"\"\"\n",
    "    # print(\"ZF\",zero_filled_kspace.shape)\n",
    "    ksp_np = ksp_t[:,:,:,0].numpy() + 1j*ksp_t[:,:,:,1].numpy()\n",
    "    ksp_np = ksp_np.transpose(1,2,0)\n",
    "    \n",
    "    img_np = np.fft.ifft2(ksp_np, axes = (0,1))\n",
    "    \n",
    "    img_t = T.to_tensor(img_np)\n",
    "    return img_t.permute(2,0,1,3)\n",
    "\n",
    "\n",
    "def root_sum_of_squares(data, dim=0):\n",
    "    \"\"\"\n",
    "    Compute the Root Sum of Squares (RSS) transform along a given dimension of a tensor.\n",
    "\n",
    "    Args:\n",
    "        data (torch.Tensor): The input tensor\n",
    "        dim (int): The dimensions along which to apply the RSS transform\n",
    "\n",
    "    Returns:\n",
    "        torch.Tensor: The RSS value\n",
    "    \"\"\"\n",
    "    return torch.sqrt((data ** 2).sum(dim))\n",
    "\n",
    "\n",
    "def complex_abs(data):\n",
    "    \"\"\"\n",
    "    Compute the absolute value of a complex valued input tensor.\n",
    "\n",
    "    Args:\n",
    "        data (torch.Tensor): A complex valued tensor, where the size of the final dimension\n",
    "            should be 2.\n",
    "\n",
    "    Returns:\n",
    "        torch.Tensor: Absolute value of data\n",
    "    \"\"\"\n",
    "    assert data.size(-1) == 2\n",
    "    return (data ** 2).sum(dim=-1).sqrt()"
   ]
  },
  {
   "cell_type": "code",
   "execution_count": null,
   "metadata": {},
   "outputs": [],
   "source": [
    "ksp_t_np = ksp_t.numpy()\n",
    "ksp_t_cmplx = ksp_t_np[:,:,:,0] + 1j*ksp_t_np[:,:,:,1]\n",
    "ksp_gt_np = ksp_t_cmplx.transpose(1,2,0)\n",
    "ksp_gt_np.shape"
   ]
  },
  {
   "cell_type": "code",
   "execution_count": null,
   "metadata": {},
   "outputs": [],
   "source": [
    "img_gt_np = np.fft.ifft2(ksp_gt_np, axes = (0,1))\n",
    "img_gt_np.shape\n",
    "plt.imshow(np.abs(img_gt_np[:,:,0]),cmap='gray')\n",
    "plt.colorbar()"
   ]
  },
  {
   "cell_type": "code",
   "execution_count": null,
   "metadata": {},
   "outputs": [],
   "source": [
    "img = ifft2(ksp_t)\n",
    "img.shape\n",
    "# plt.imshow(torch.sqrt(img[0,:,:,0]**2 + img[0,:,:,1]**2))"
   ]
  },
  {
   "cell_type": "code",
   "execution_count": null,
   "metadata": {},
   "outputs": [],
   "source": [
    "img_rss = root_sum_of_squares(complex_abs(img))\n",
    "img_rss.shape"
   ]
  },
  {
   "cell_type": "code",
   "execution_count": null,
   "metadata": {},
   "outputs": [],
   "source": [
    "plt.imshow(img_rss,cmap='gray')\n",
    "plt.colorbar()"
   ]
  },
  {
   "cell_type": "code",
   "execution_count": null,
   "metadata": {},
   "outputs": [],
   "source": [
    "img_np = T.zero_filled_reconstruction(ksp_gt_np)\n",
    "img_np.shape"
   ]
  },
  {
   "cell_type": "code",
   "execution_count": null,
   "metadata": {},
   "outputs": [],
   "source": [
    "plt.imshow(img_np,cmap='gray')\n",
    "plt.colorbar()"
   ]
  },
  {
   "cell_type": "code",
   "execution_count": null,
   "metadata": {},
   "outputs": [],
   "source": [
    "img.shape"
   ]
  },
  {
   "cell_type": "code",
   "execution_count": null,
   "metadata": {},
   "outputs": [],
   "source": [
    "ksp = fft2(img)\n",
    "ksp.shape"
   ]
  },
  {
   "cell_type": "code",
   "execution_count": null,
   "metadata": {},
   "outputs": [],
   "source": [
    "plt.imshow(torch.log(torch.sqrt(ksp[0,:,:,0]**2 + ksp[0,:,:,1]**2) + 1e-8))\n",
    "plt.colorbar()"
   ]
  },
  {
   "cell_type": "code",
   "execution_count": null,
   "metadata": {},
   "outputs": [],
   "source": [
    "    def perform(self,out_img_cmplx,ksp,sens,mask ):\n",
    "        \n",
    "        x = T.complex_multiply(out_img_cmplx[...,0].unsqueeze(1), out_img_cmplx[...,1].unsqueeze(1), sens[...,0], sens[...,1])\n",
    "    \n",
    "        k = (torch.fft(x, 2, normalized=True)).squeeze(1)\n",
    "        k_shift = T.ifftshift(k, dim=(-3,-2))\n",
    "\n",
    "        \n",
    "        sr = 0.85\n",
    "        Nz = k_shift.shape[-2] \n",
    "        Nz_sampled = int(np.ceil(Nz*sr))\n",
    "        k_shift[:,:,:,Nz_sampled:,:] = 0\n",
    "        \n",
    "        v = self.noise_lvl\n",
    "\n",
    "        if v is not None: # noisy case\n",
    "            # out = (1 - mask) * k + mask * (k + v * k0) / (1 + v)\n",
    "            out = (1 - mask) * k_shift + mask * (v * k_shift + (1 - v) * ksp) \n",
    "        \n",
    "        else:\n",
    "           \n",
    "            out = (1 - mask) * k_shift + mask * ksp\n",
    "            \n",
    "        \n",
    "        x = torch.ifft(out, 2, normalized=True)\n",
    "    \n",
    "        Sx = T.complex_multiply(x[...,0], x[...,1], sens[...,0],-sens[...,1]).sum(dim=1)\n",
    "        \n",
    "        Ss = T.complex_multiply(sens[...,0], sens[...,1], sens[...,0],-sens[...,1]).sum(dim=1)\n",
    "     \n",
    "        return Sx, Ss"
   ]
  },
  {
   "cell_type": "code",
   "execution_count": null,
   "metadata": {},
   "outputs": [],
   "source": [
    "img = ifft2(ksp_t).unsqueeze(0)\n",
    "img.shape , sens_t.shape"
   ]
  },
  {
   "cell_type": "code",
   "execution_count": null,
   "metadata": {},
   "outputs": [],
   "source": [
    "img2 = T.combine_all_coils(img.squeeze(0).float(),sens_t.float()).unsqueeze(0)\n",
    "img2.shape"
   ]
  },
  {
   "cell_type": "code",
   "execution_count": null,
   "metadata": {},
   "outputs": [],
   "source": [
    "sens2 = sens_t.unsqueeze(0)\n",
    "sens2.shape"
   ]
  },
  {
   "cell_type": "code",
   "execution_count": null,
   "metadata": {},
   "outputs": [],
   "source": [
    "x = T.complex_multiply(img2[...,0].unsqueeze(1), img2[...,1].unsqueeze(1), sens2[...,0], sens2[...,1])\n",
    "x.shape"
   ]
  },
  {
   "cell_type": "code",
   "execution_count": null,
   "metadata": {},
   "outputs": [],
   "source": [
    "plt.imshow(torch.sqrt(img2[0,:,:,0]**2 + img2[0,:,:,1]**2),cmap='gray')\n",
    "plt.colorbar()"
   ]
  },
  {
   "cell_type": "code",
   "execution_count": null,
   "metadata": {},
   "outputs": [],
   "source": [
    "plt.imshow(torch.sqrt(x[0,0,:,:,0]**2 + x[0,0,:,:,1]**2),cmap='gray')\n",
    "plt.colorbar()"
   ]
  },
  {
   "cell_type": "code",
   "execution_count": null,
   "metadata": {},
   "outputs": [],
   "source": []
  },
  {
   "cell_type": "code",
   "execution_count": null,
   "metadata": {},
   "outputs": [],
   "source": []
  }
 ],
 "metadata": {
  "kernelspec": {
   "display_name": "Python 3",
   "language": "python",
   "name": "python3"
  },
  "language_info": {
   "codemirror_mode": {
    "name": "ipython",
    "version": 3
   },
   "file_extension": ".py",
   "mimetype": "text/x-python",
   "name": "python",
   "nbconvert_exporter": "python",
   "pygments_lexer": "ipython3",
   "version": "3.6.8"
  }
 },
 "nbformat": 4,
 "nbformat_minor": 2
}
